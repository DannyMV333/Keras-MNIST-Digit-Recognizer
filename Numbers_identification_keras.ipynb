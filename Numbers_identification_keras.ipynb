{
  "nbformat": 4,
  "nbformat_minor": 0,
  "metadata": {
    "colab": {
      "provenance": []
    },
    "kernelspec": {
      "name": "python3",
      "display_name": "Python 3"
    },
    "language_info": {
      "name": "python"
    }
  },
  "cells": [
    {
      "cell_type": "markdown",
      "source": [
        "# Number/Digit identification using Keras via Tensorflow and the MNIST dataset"
      ],
      "metadata": {
        "id": "QTvEx_pKhvD9"
      }
    },
    {
      "cell_type": "code",
      "source": [
        "# We would be using keras via the tensorflow library\n",
        "# Importing the necesary modules\n",
        "import tensorflow as tf\n",
        "from tensorflow.keras import layers, models, Input\n",
        "from tensorflow.keras.utils import to_categorical\n",
        "import numpy as np\n",
        "import matplotlib.pyplot as plt"
      ],
      "outputs": [],
      "execution_count": 1,
      "metadata": {
        "id": "w2ujvrrSbNrk"
      }
    },
    {
      "cell_type": "markdown",
      "source": [
        "### Loading the MNIST dataset"
      ],
      "metadata": {
        "id": "r9tnywrcnEm7"
      }
    },
    {
      "cell_type": "code",
      "source": [
        "(train_images, train_labels), (test_images, test_labels) = tf.keras.datasets.mnist.load_data()"
      ],
      "metadata": {
        "id": "opdT-y5ilAUt",
        "colab": {
          "base_uri": "https://localhost:8080/"
        },
        "outputId": "6594f8c6-7748-4135-e966-ca6ce75ffd7d"
      },
      "execution_count": 2,
      "outputs": [
        {
          "output_type": "stream",
          "name": "stdout",
          "text": [
            "Downloading data from https://storage.googleapis.com/tensorflow/tf-keras-datasets/mnist.npz\n",
            "\u001b[1m11490434/11490434\u001b[0m \u001b[32m━━━━━━━━━━━━━━━━━━━━\u001b[0m\u001b[37m\u001b[0m \u001b[1m0s\u001b[0m 0us/step\n"
          ]
        }
      ]
    },
    {
      "cell_type": "markdown",
      "source": [
        "### Viewing the shapes of the training data."
      ],
      "metadata": {
        "id": "KYvfqLyhm01z"
      }
    },
    {
      "cell_type": "code",
      "source": [
        "print(f\"Shape of train_images: {train_images.shape}\")\n",
        "print(f\"Shape of train_labels: {train_labels.shape}\")\n",
        "print(f\"Shape of test_images: {test_images.shape}\")\n",
        "print(f\"Shape of test_labels: {test_labels.shape}\")"
      ],
      "metadata": {
        "colab": {
          "base_uri": "https://localhost:8080/"
        },
        "id": "nF4YYDUxlusF",
        "outputId": "49c8d622-891b-4c5f-b178-8e29dd9f964b"
      },
      "execution_count": 3,
      "outputs": [
        {
          "output_type": "stream",
          "name": "stdout",
          "text": [
            "Shape of train_images: (60000, 28, 28)\n",
            "Shape of train_labels: (60000,)\n",
            "Shape of test_images: (10000, 28, 28)\n",
            "Shape of test_labels: (10000,)\n"
          ]
        }
      ]
    },
    {
      "cell_type": "markdown",
      "source": [
        "### Visualizing the images in the dataset\n",
        "\n",
        "We make use of matplolib pyplot"
      ],
      "metadata": {
        "id": "mPDIwDDxnOvF"
      }
    },
    {
      "cell_type": "code",
      "source": [
        "plt.imshow(train_images[4], cmap='gray')\n",
        "plt.title(f\"Label: {train_labels[4]}\")\n",
        "plt.colorbar() # Adds a color bar to show pixel intensity scale\n",
        "plt.show()"
      ],
      "metadata": {
        "colab": {
          "base_uri": "https://localhost:8080/",
          "height": 452
        },
        "id": "vNjwArZTnNg5",
        "outputId": "06f8d2fd-de47-482b-92c6-6997fbbbf70c"
      },
      "execution_count": 4,
      "outputs": [
        {
          "output_type": "display_data",
          "data": {
            "text/plain": [
              "<Figure size 640x480 with 2 Axes>"
            ],
            "image/png": "[encoded data removed]"
          },
          "metadata": {}
        }
      ]
    },
    {
      "cell_type": "markdown",
      "source": [
        "### Normalize Pixel Values\n",
        "\n",
        "The pixel values in the MNIST images range from 0 to 255 (where 0 is black and 255 is white). Neural networks generally perform better when input values are scaled to a smaller range, such as 0 to 1 or -1 to 1. We'll normalize them to the range [0, 1].\n",
        "\n",
        "* `train_images.astype('float32')`: We cast the data type of the image arrays to `float32`. Neural networks typically work with floating-point numbers for calculations. Original data is often `uint8` (unsigned 8-bit integers).\n",
        "* `/ 255.0`: We divide every pixel value by 255.0. Since the maximum pixel value is 255, this scales all pixel values to be between 0.0 (for black) and 1.0 (for white). This normalization helps the neural network converge faster and perform better."
      ],
      "metadata": {
        "id": "fd66PekCn6Zd"
      }
    },
    {
      "cell_type": "code",
      "source": [
        "train_images = train_images.astype('float32') / 255.0\n",
        "test_images = test_images.astype('float32') / 255.0"
      ],
      "metadata": {
        "id": "_SKtMb9CofMV"
      },
      "execution_count": 5,
      "outputs": []
    },
    {
      "cell_type": "markdown",
      "source": [
        "#### Reshape Images for the Model\n",
        "\n",
        "For our first model, we'll use a simple \"Dense\" (fully connected) neural network. These networks expect a 1D array (vector) as input for each sample, not a 2D image. So, we need to \"flatten\" each 28x28 image into a 784-element vector (28 * 28 = 784)."
      ],
      "metadata": {
        "id": "vCJsyxHqokU0"
      }
    },
    {
      "cell_type": "code",
      "source": [
        "train_images_flat = train_images.reshape((60000, 28 * 28))\n",
        "test_images_flat = test_images.reshape((10000, 28 * 28))\n",
        "\n",
        "print(\"Shape of flattened train_images:\", train_images_flat.shape)\n",
        "print(\"Shape of flattened test_images:\", test_images_flat.shape)"
      ],
      "metadata": {
        "colab": {
          "base_uri": "https://localhost:8080/"
        },
        "id": "Cs3fZzifojc_",
        "outputId": "e66b05f8-88e8-460e-843b-afc247d39484"
      },
      "execution_count": 6,
      "outputs": [
        {
          "output_type": "stream",
          "name": "stdout",
          "text": [
            "Shape of flattened train_images: (60000, 784)\n",
            "Shape of flattened test_images: (10000, 784)\n"
          ]
        }
      ]
    },
    {
      "cell_type": "markdown",
      "source": [
        "### One-Hot Encode Labels\n",
        "\n",
        "Our target labels (0-9) are single integers. For multi-class classification problems, especially when using a `softmax` activation in the output layer (which we will), it's best practice to convert these integer labels into a \"one-hot encoded\" format.\n",
        "\n",
        "One-hot encoding converts a single integer label into a binary vector where only one element is \"hot\" (1) and the rest are \"cold\" (0).\n",
        "For example:\n",
        "* Digit `0` becomes `[1, 0, 0, 0, 0, 0, 0, 0, 0, 0]`\n",
        "* Digit `1` becomes `[0, 1, 0, 0, 0, 0, 0, 0, 0, 0]`\n",
        "* ...\n",
        "* Digit `9` becomes `[0, 0, 0, 0, 0, 0, 0, 0, 0, 1]`\n",
        "\n",
        "Since we have 10 possible digits (0-9), each label will be converted into a 10-element vector."
      ],
      "metadata": {
        "id": "RAxL5aHRpP-I"
      }
    },
    {
      "cell_type": "code",
      "source": [
        "# Optional, to_categorical infers the value from the dataset.\n",
        "num_classes = 10\n",
        "\n",
        "train_labels_one_hot = to_categorical(train_labels, num_classes=num_classes)\n",
        "test_labels_one_hot = to_categorical(test_labels, num_classes=num_classes)\n",
        "\n",
        "print(\"Shape of one-hot encoded train_labels:\", train_labels_one_hot.shape)\n",
        "print(\"First 5 one-hot encoded train_labels:\\n\", train_labels_one_hot[:5])\n",
        "print(\"Original first 5 train_labels:\", train_labels[:5])"
      ],
      "metadata": {
        "colab": {
          "base_uri": "https://localhost:8080/"
        },
        "id": "XpD6TXrMpUl8",
        "outputId": "30978ef5-00b9-4438-b716-8ba03109f783"
      },
      "execution_count": 7,
      "outputs": [
        {
          "output_type": "stream",
          "name": "stdout",
          "text": [
            "Shape of one-hot encoded train_labels: (60000, 10)\n",
            "First 5 one-hot encoded train_labels:\n",
            " [[0. 0. 0. 0. 0. 1. 0. 0. 0. 0.]\n",
            " [1. 0. 0. 0. 0. 0. 0. 0. 0. 0.]\n",
            " [0. 0. 0. 0. 1. 0. 0. 0. 0. 0.]\n",
            " [0. 1. 0. 0. 0. 0. 0. 0. 0. 0.]\n",
            " [0. 0. 0. 0. 0. 0. 0. 0. 0. 1.]]\n",
            "Original first 5 train_labels: [5 0 4 1 9]\n"
          ]
        }
      ]
    },
    {
      "cell_type": "markdown",
      "source": [
        "### Building the Neural Network Model\n",
        "\n",
        "Now we define our neural network architecture using Keras's `Sequential` API. A `Sequential` model is a linear stack of layers."
      ],
      "metadata": {
        "id": "xnsPry9mqPiZ"
      }
    },
    {
      "cell_type": "code",
      "source": [
        "# Create a Sequential model\n",
        "# Sequential models are a linear stack of layers.\n",
        "model = models.Sequential()\n",
        "\n",
        "# --- Recommended way to define the input shape in Sequential models ---\n",
        "# Input layer\n",
        "# This layer's sole purpose is to explicitly define the shape of the input data\n",
        "# that the model expects.\n",
        "# It makes the model definition clearer and aligns with Keras best practices.\n",
        "# For a 28x28 pixel image flattened, the shape is (784,).\n",
        "model.add(Input(shape=(784, )))\n",
        "\n",
        "# First Hidden Layer\n",
        "# A Dense layer is a regular deeply connected neural network layer.\n",
        "# It has 512 units (neurons).\n",
        "# 'relu' (Rectified Linear Unit) is a common activation function,\n",
        "# which helps the model learn non-linear relationships.\n",
        "# We no longer need 'input_shape' here, as it's handled by the preceding Input layer.\n",
        "model.add(layers.Dense(512, activation='relu'))\n",
        "\n",
        "# Dropout layer\n",
        "# Dropout is a regularization technique that randomly sets a fraction of input units to 0\n",
        "# at each update during training time. This helps prevent overfitting by\n",
        "# making neurons less dependent on specific other neurons.\n",
        "# Here, 60% (0.6) of the neurons' outputs will be randomly \"dropped out\" (set to zero)\n",
        "# during each training step.\n",
        "model.add(layers.Dropout(0.6))\n",
        "\n",
        "# Second Hidden Layer\n",
        "# Another Dense layer with 512 units and 'relu' activation.\n",
        "# Keras automatically infers the input shape from the previous layer,\n",
        "# so we don't need to specify it again. This is standard for subsequent layers.\n",
        "model.add(layers.Dense(512, activation='relu'))\n",
        "\n",
        "# Another Dropout layer\n",
        "# Applying dropout again after the second hidden layer.\n",
        "model.add(layers.Dropout(0.6))\n",
        "\n",
        "# Output Layer\n",
        "# This layer has 'num_classes' units (e.g., 10 for digits 0-9).\n",
        "# 'softmax' activation function is used for multi-class classification.\n",
        "# It converts the raw outputs (logits) into a probability distribution over the\n",
        "# 'num_classes' classes, meaning the sum of its outputs is 1.\n",
        "# The class with the highest probability is the model's prediction.\n",
        "model.add(layers.Dense(num_classes, activation='softmax'))\n",
        "\n",
        "# It's useful to see a summary of the model we just built.\n",
        "# This prints a table summarizing the layers, their output shapes, and the number\n",
        "# of trainable parameters.\n",
        "model.summary()"
      ],
      "metadata": {
        "colab": {
          "base_uri": "https://localhost:8080/",
          "height": 306
        },
        "id": "cmCJ-FRIqaHG",
        "outputId": "021cda3e-bf29-4309-88fa-f366a610f05e"
      },
      "execution_count": 8,
      "outputs": [
        {
          "output_type": "display_data",
          "data": {
            "text/plain": [
              "\u001b[1mModel: \"sequential\"\u001b[0m\n"
            ],
            "text/html": [
              "<pre style=\"white-space:pre;overflow-x:auto;line-height:normal;font-family:Menlo,'DejaVu Sans Mono',consolas,'Courier New',monospace\"><span style=\"font-weight: bold\">Model: \"sequential\"</span>\n",
              "</pre>\n"
            ]
          },
          "metadata": {}
        },
        {
          "output_type": "display_data",
          "data": {
            "text/plain": [
              "┏━━━━━━━━━━━━━━━━━━━━━━━━━━━━━━━━━┳━━━━━━━━━━━━━━━━━━━━━━━━┳━━━━━━━━━━━━━━━┓\n",
              "┃\u001b[1m \u001b[0m\u001b[1mLayer (type)                   \u001b[0m\u001b[1m \u001b[0m┃\u001b[1m \u001b[0m\u001b[1mOutput Shape          \u001b[0m\u001b[1m \u001b[0m┃\u001b[1m \u001b[0m\u001b[1m      Param #\u001b[0m\u001b[1m \u001b[0m┃\n",
              "┡━━━━━━━━━━━━━━━━━━━━━━━━━━━━━━━━━╇━━━━━━━━━━━━━━━━━━━━━━━━╇━━━━━━━━━━━━━━━┩\n",
              "│ dense (\u001b[38;5;33mDense\u001b[0m)                   │ (\u001b[38;5;45mNone\u001b[0m, \u001b[38;5;34m512\u001b[0m)            │       \u001b[38;5;34m401,920\u001b[0m │\n",
              "├─────────────────────────────────┼────────────────────────┼───────────────┤\n",
              "│ dropout (\u001b[38;5;33mDropout\u001b[0m)               │ (\u001b[38;5;45mNone\u001b[0m, \u001b[38;5;34m512\u001b[0m)            │             \u001b[38;5;34m0\u001b[0m │\n",
              "├─────────────────────────────────┼────────────────────────┼───────────────┤\n",
              "│ dense_1 (\u001b[38;5;33mDense\u001b[0m)                 │ (\u001b[38;5;45mNone\u001b[0m, \u001b[38;5;34m512\u001b[0m)            │       \u001b[38;5;34m262,656\u001b[0m │\n",
              "├─────────────────────────────────┼────────────────────────┼───────────────┤\n",
              "│ dropout_1 (\u001b[38;5;33mDropout\u001b[0m)             │ (\u001b[38;5;45mNone\u001b[0m, \u001b[38;5;34m512\u001b[0m)            │             \u001b[38;5;34m0\u001b[0m │\n",
              "├─────────────────────────────────┼────────────────────────┼───────────────┤\n",
              "│ dense_2 (\u001b[38;5;33mDense\u001b[0m)                 │ (\u001b[38;5;45mNone\u001b[0m, \u001b[38;5;34m10\u001b[0m)             │         \u001b[38;5;34m5,130\u001b[0m │\n",
              "└─────────────────────────────────┴────────────────────────┴───────────────┘\n"
            ],
            "text/html": [
              "<pre style=\"white-space:pre;overflow-x:auto;line-height:normal;font-family:Menlo,'DejaVu Sans Mono',consolas,'Courier New',monospace\">┏━━━━━━━━━━━━━━━━━━━━━━━━━━━━━━━━━┳━━━━━━━━━━━━━━━━━━━━━━━━┳━━━━━━━━━━━━━━━┓\n",
              "┃<span style=\"font-weight: bold\"> Layer (type)                    </span>┃<span style=\"font-weight: bold\"> Output Shape           </span>┃<span style=\"font-weight: bold\">       Param # </span>┃\n",
              "┡━━━━━━━━━━━━━━━━━━━━━━━━━━━━━━━━━╇━━━━━━━━━━━━━━━━━━━━━━━━╇━━━━━━━━━━━━━━━┩\n",
              "│ dense (<span style=\"color: #0087ff; text-decoration-color: #0087ff\">Dense</span>)                   │ (<span style=\"color: #00d7ff; text-decoration-color: #00d7ff\">None</span>, <span style=\"color: #00af00; text-decoration-color: #00af00\">512</span>)            │       <span style=\"color: #00af00; text-decoration-color: #00af00\">401,920</span> │\n",
              "├─────────────────────────────────┼────────────────────────┼───────────────┤\n",
              "│ dropout (<span style=\"color: #0087ff; text-decoration-color: #0087ff\">Dropout</span>)               │ (<span style=\"color: #00d7ff; text-decoration-color: #00d7ff\">None</span>, <span style=\"color: #00af00; text-decoration-color: #00af00\">512</span>)            │             <span style=\"color: #00af00; text-decoration-color: #00af00\">0</span> │\n",
              "├─────────────────────────────────┼────────────────────────┼───────────────┤\n",
              "│ dense_1 (<span style=\"color: #0087ff; text-decoration-color: #0087ff\">Dense</span>)                 │ (<span style=\"color: #00d7ff; text-decoration-color: #00d7ff\">None</span>, <span style=\"color: #00af00; text-decoration-color: #00af00\">512</span>)            │       <span style=\"color: #00af00; text-decoration-color: #00af00\">262,656</span> │\n",
              "├─────────────────────────────────┼────────────────────────┼───────────────┤\n",
              "│ dropout_1 (<span style=\"color: #0087ff; text-decoration-color: #0087ff\">Dropout</span>)             │ (<span style=\"color: #00d7ff; text-decoration-color: #00d7ff\">None</span>, <span style=\"color: #00af00; text-decoration-color: #00af00\">512</span>)            │             <span style=\"color: #00af00; text-decoration-color: #00af00\">0</span> │\n",
              "├─────────────────────────────────┼────────────────────────┼───────────────┤\n",
              "│ dense_2 (<span style=\"color: #0087ff; text-decoration-color: #0087ff\">Dense</span>)                 │ (<span style=\"color: #00d7ff; text-decoration-color: #00d7ff\">None</span>, <span style=\"color: #00af00; text-decoration-color: #00af00\">10</span>)             │         <span style=\"color: #00af00; text-decoration-color: #00af00\">5,130</span> │\n",
              "└─────────────────────────────────┴────────────────────────┴───────────────┘\n",
              "</pre>\n"
            ]
          },
          "metadata": {}
        },
        {
          "output_type": "display_data",
          "data": {
            "text/plain": [
              "\u001b[1m Total params: \u001b[0m\u001b[38;5;34m669,706\u001b[0m (2.55 MB)\n"
            ],
            "text/html": [
              "<pre style=\"white-space:pre;overflow-x:auto;line-height:normal;font-family:Menlo,'DejaVu Sans Mono',consolas,'Courier New',monospace\"><span style=\"font-weight: bold\"> Total params: </span><span style=\"color: #00af00; text-decoration-color: #00af00\">669,706</span> (2.55 MB)\n",
              "</pre>\n"
            ]
          },
          "metadata": {}
        },
        {
          "output_type": "display_data",
          "data": {
            "text/plain": [
              "\u001b[1m Trainable params: \u001b[0m\u001b[38;5;34m669,706\u001b[0m (2.55 MB)\n"
            ],
            "text/html": [
              "<pre style=\"white-space:pre;overflow-x:auto;line-height:normal;font-family:Menlo,'DejaVu Sans Mono',consolas,'Courier New',monospace\"><span style=\"font-weight: bold\"> Trainable params: </span><span style=\"color: #00af00; text-decoration-color: #00af00\">669,706</span> (2.55 MB)\n",
              "</pre>\n"
            ]
          },
          "metadata": {}
        },
        {
          "output_type": "display_data",
          "data": {
            "text/plain": [
              "\u001b[1m Non-trainable params: \u001b[0m\u001b[38;5;34m0\u001b[0m (0.00 B)\n"
            ],
            "text/html": [
              "<pre style=\"white-space:pre;overflow-x:auto;line-height:normal;font-family:Menlo,'DejaVu Sans Mono',consolas,'Courier New',monospace\"><span style=\"font-weight: bold\"> Non-trainable params: </span><span style=\"color: #00af00; text-decoration-color: #00af00\">0</span> (0.00 B)\n",
              "</pre>\n"
            ]
          },
          "metadata": {}
        }
      ]
    },
    {
      "cell_type": "markdown",
      "source": [
        "### Compile the Model\n",
        "\n",
        "Before training, we need to configure the model's learning process. This is done in the `compile` step."
      ],
      "metadata": {
        "id": "m9t9ZVgidzkT"
      }
    },
    {
      "cell_type": "code",
      "source": [
        "model.compile(optimizer='adam',\n",
        "              loss='categorical_crossentropy',\n",
        "              metrics=['accuracy'])\n",
        "\n",
        "print(model)"
      ],
      "outputs": [
        {
          "output_type": "stream",
          "name": "stdout",
          "text": [
            "<Sequential name=sequential, built=True>\n"
          ]
        }
      ],
      "execution_count": 9,
      "metadata": {
        "id": "pQCrFln9bOYP",
        "colab": {
          "base_uri": "https://localhost:8080/"
        },
        "outputId": "c95d168e-ec51-4d4c-9dba-72a3d55cedd8"
      }
    },
    {
      "cell_type": "markdown",
      "source": [
        "### Train the Model (Fit the Model)\n",
        "\n",
        "Now that the model is built and compiled, we can train it using our preprocessed training data. This process is often called \"fitting\" the model to the data."
      ],
      "metadata": {
        "id": "LSEFmHJ8eGCG"
      }
    },
    {
      "cell_type": "code",
      "source": [
        "epochs = 18 # Number of times to iterate over the entire training dataset\n",
        "batch_size = 108 # Number of samples per gradient update\n",
        "\n",
        "history = model.fit(train_images_flat, train_labels_one_hot,\n",
        "                    epochs=epochs,\n",
        "                    batch_size=batch_size,\n",
        "                    validation_split=0.3) # Use 30% of training data for validation"
      ],
      "metadata": {
        "colab": {
          "base_uri": "https://localhost:8080/"
        },
        "id": "hoo1csAkecDY",
        "outputId": "9293a539-20bf-4435-c919-75a209c9c42f"
      },
      "execution_count": 10,
      "outputs": [
        {
          "output_type": "stream",
          "name": "stdout",
          "text": [
            "Epoch 1/18\n",
            "\u001b[1m389/389\u001b[0m \u001b[32m━━━━━━━━━━━━━━━━━━━━\u001b[0m\u001b[37m\u001b[0m \u001b[1m11s\u001b[0m 24ms/step - accuracy: 0.7413 - loss: 0.8015 - val_accuracy: 0.9484 - val_loss: 0.1734\n",
            "Epoch 2/18\n",
            "\u001b[1m389/389\u001b[0m \u001b[32m━━━━━━━━━━━━━━━━━━━━\u001b[0m\u001b[37m\u001b[0m \u001b[1m8s\u001b[0m 19ms/step - accuracy: 0.9279 - loss: 0.2374 - val_accuracy: 0.9594 - val_loss: 0.1365\n",
            "Epoch 3/18\n",
            "\u001b[1m389/389\u001b[0m \u001b[32m━━━━━━━━━━━━━━━━━━━━\u001b[0m\u001b[37m\u001b[0m \u001b[1m11s\u001b[0m 20ms/step - accuracy: 0.9475 - loss: 0.1768 - val_accuracy: 0.9666 - val_loss: 0.1149\n",
            "Epoch 4/18\n",
            "\u001b[1m389/389\u001b[0m \u001b[32m━━━━━━━━━━━━━━━━━━━━\u001b[0m\u001b[37m\u001b[0m \u001b[1m9s\u001b[0m 22ms/step - accuracy: 0.9523 - loss: 0.1557 - val_accuracy: 0.9703 - val_loss: 0.1036\n",
            "Epoch 5/18\n",
            "\u001b[1m389/389\u001b[0m \u001b[32m━━━━━━━━━━━━━━━━━━━━\u001b[0m\u001b[37m\u001b[0m \u001b[1m7s\u001b[0m 18ms/step - accuracy: 0.9582 - loss: 0.1395 - val_accuracy: 0.9696 - val_loss: 0.1017\n",
            "Epoch 6/18\n",
            "\u001b[1m389/389\u001b[0m \u001b[32m━━━━━━━━━━━━━━━━━━━━\u001b[0m\u001b[37m\u001b[0m \u001b[1m9s\u001b[0m 22ms/step - accuracy: 0.9620 - loss: 0.1189 - val_accuracy: 0.9721 - val_loss: 0.0932\n",
            "Epoch 7/18\n",
            "\u001b[1m389/389\u001b[0m \u001b[32m━━━━━━━━━━━━━━━━━━━━\u001b[0m\u001b[37m\u001b[0m \u001b[1m9s\u001b[0m 23ms/step - accuracy: 0.9622 - loss: 0.1186 - val_accuracy: 0.9723 - val_loss: 0.0946\n",
            "Epoch 8/18\n",
            "\u001b[1m389/389\u001b[0m \u001b[32m━━━━━━━━━━━━━━━━━━━━\u001b[0m\u001b[37m\u001b[0m \u001b[1m8s\u001b[0m 18ms/step - accuracy: 0.9674 - loss: 0.1048 - val_accuracy: 0.9716 - val_loss: 0.0965\n",
            "Epoch 9/18\n",
            "\u001b[1m389/389\u001b[0m \u001b[32m━━━━━━━━━━━━━━━━━━━━\u001b[0m\u001b[37m\u001b[0m \u001b[1m9s\u001b[0m 22ms/step - accuracy: 0.9690 - loss: 0.1008 - val_accuracy: 0.9735 - val_loss: 0.0887\n",
            "Epoch 10/18\n",
            "\u001b[1m389/389\u001b[0m \u001b[32m━━━━━━━━━━━━━━━━━━━━\u001b[0m\u001b[37m\u001b[0m \u001b[1m9s\u001b[0m 24ms/step - accuracy: 0.9717 - loss: 0.0902 - val_accuracy: 0.9751 - val_loss: 0.0866\n",
            "Epoch 11/18\n",
            "\u001b[1m389/389\u001b[0m \u001b[32m━━━━━━━━━━━━━━━━━━━━\u001b[0m\u001b[37m\u001b[0m \u001b[1m8s\u001b[0m 20ms/step - accuracy: 0.9698 - loss: 0.0965 - val_accuracy: 0.9755 - val_loss: 0.0895\n",
            "Epoch 12/18\n",
            "\u001b[1m389/389\u001b[0m \u001b[32m━━━━━━━━━━━━━━━━━━━━\u001b[0m\u001b[37m\u001b[0m \u001b[1m10s\u001b[0m 18ms/step - accuracy: 0.9718 - loss: 0.0874 - val_accuracy: 0.9741 - val_loss: 0.0921\n",
            "Epoch 13/18\n",
            "\u001b[1m389/389\u001b[0m \u001b[32m━━━━━━━━━━━━━━━━━━━━\u001b[0m\u001b[37m\u001b[0m \u001b[1m11s\u001b[0m 20ms/step - accuracy: 0.9734 - loss: 0.0899 - val_accuracy: 0.9748 - val_loss: 0.0926\n",
            "Epoch 14/18\n",
            "\u001b[1m389/389\u001b[0m \u001b[32m━━━━━━━━━━━━━━━━━━━━\u001b[0m\u001b[37m\u001b[0m \u001b[1m9s\u001b[0m 22ms/step - accuracy: 0.9735 - loss: 0.0827 - val_accuracy: 0.9764 - val_loss: 0.0864\n",
            "Epoch 15/18\n",
            "\u001b[1m389/389\u001b[0m \u001b[32m━━━━━━━━━━━━━━━━━━━━\u001b[0m\u001b[37m\u001b[0m \u001b[1m10s\u001b[0m 22ms/step - accuracy: 0.9765 - loss: 0.0751 - val_accuracy: 0.9767 - val_loss: 0.0866\n",
            "Epoch 16/18\n",
            "\u001b[1m389/389\u001b[0m \u001b[32m━━━━━━━━━━━━━━━━━━━━\u001b[0m\u001b[37m\u001b[0m \u001b[1m7s\u001b[0m 19ms/step - accuracy: 0.9764 - loss: 0.0779 - val_accuracy: 0.9776 - val_loss: 0.0853\n",
            "Epoch 17/18\n",
            "\u001b[1m389/389\u001b[0m \u001b[32m━━━━━━━━━━━━━━━━━━━━\u001b[0m\u001b[37m\u001b[0m \u001b[1m11s\u001b[0m 21ms/step - accuracy: 0.9777 - loss: 0.0757 - val_accuracy: 0.9763 - val_loss: 0.0861\n",
            "Epoch 18/18\n",
            "\u001b[1m389/389\u001b[0m \u001b[32m━━━━━━━━━━━━━━━━━━━━\u001b[0m\u001b[37m\u001b[0m \u001b[1m8s\u001b[0m 21ms/step - accuracy: 0.9782 - loss: 0.0710 - val_accuracy: 0.9771 - val_loss: 0.0849\n"
          ]
        }
      ]
    },
    {
      "cell_type": "markdown",
      "source": [
        "### Evaluate the Model\n",
        "\n",
        "After training, we want to see how well our model performs on completely unseen data – the test set."
      ],
      "metadata": {
        "id": "XTdUx1Zter8G"
      }
    },
    {
      "cell_type": "code",
      "source": [
        "test_loss, test_accuracy = model.evaluate(test_images_flat, test_labels_one_hot, verbose=1)\n",
        "\n",
        "print(f\"\\nTest Loss: {test_loss:.4f}\")\n",
        "print(f\"Test Accuracy: {test_accuracy:.4f}\")"
      ],
      "metadata": {
        "colab": {
          "base_uri": "https://localhost:8080/"
        },
        "id": "v5UC0Uw2eyrW",
        "outputId": "5bb68f4c-13cd-47f0-bc92-e185aeb2bd74"
      },
      "execution_count": 14,
      "outputs": [
        {
          "output_type": "stream",
          "name": "stdout",
          "text": [
            "\u001b[1m313/313\u001b[0m \u001b[32m━━━━━━━━━━━━━━━━━━━━\u001b[0m\u001b[37m\u001b[0m \u001b[1m1s\u001b[0m 4ms/step - accuracy: 0.9758 - loss: 0.0857\n",
            "\n",
            "Test Loss: 0.0724\n",
            "Test Accuracy: 0.9788\n"
          ]
        }
      ]
    },
    {
      "cell_type": "markdown",
      "source": [
        "### Make Predictions\n",
        "\n",
        "Finally, let's use our trained model to make predictions on some individual images from the test set."
      ],
      "metadata": {
        "id": "tdMEnqYpfK8z"
      }
    },
    {
      "cell_type": "code",
      "source": [
        "# Select a few images from the test set for prediction\n",
        "num_predictions = 21\n",
        "sample_images = test_images_flat[:num_predictions]\n",
        "true_labels = test_labels[:num_predictions]\n",
        "\n",
        "# Make predictions\n",
        "predictions = model.predict(sample_images)\n",
        "\n",
        "print(\"\\nPredictions for the first 5 test images:\")\n",
        "for i in range(num_predictions):\n",
        "    predicted_probabilities = predictions[i]\n",
        "    predicted_class = np.argmax(predicted_probabilities) # Get the index of the highest probability\n",
        "    print(f\"Image {i+1}:\")\n",
        "    print(f\"  Predicted Probabilities: {predicted_probabilities}\")\n",
        "    print(f\"  Predicted Digit: {predicted_class}\")\n",
        "    print(f\"  True Digit: {true_labels[i]}\")\n",
        "    print(\"-\" * 30)\n",
        "\n",
        "# Visualize one of the predictions\n",
        "plt.figure(figsize=(6, 6))\n",
        "plt.imshow(test_images[0], cmap='gray') # Use original 2D image for visualization\n",
        "plt.title(f\"Predicted: {np.argmax(predictions[0])}, True: {test_labels[0]}\")\n",
        "plt.show()"
      ],
      "metadata": {
        "colab": {
          "base_uri": "https://localhost:8080/",
          "height": 1000
        },
        "id": "Q8cY4OjefaLc",
        "outputId": "cf916214-5ab5-455f-b664-8f2b8c66954d"
      },
      "execution_count": 12,
      "outputs": [
        {
          "output_type": "stream",
          "name": "stdout",
          "text": [
            "\u001b[1m1/1\u001b[0m \u001b[32m━━━━━━━━━━━━━━━━━━━━\u001b[0m\u001b[37m\u001b[0m \u001b[1m0s\u001b[0m 77ms/step\n",
            "\n",
            "Predictions for the first 5 test images:\n",
            "Image 1:\n",
            "  Predicted Probabilities: [1.2325066e-11 7.3134632e-10 6.6530873e-08 9.7595921e-07 8.0107443e-13\n",
            " 2.3635122e-10 3.7432262e-17 9.9999875e-01 5.0537569e-10 1.5331030e-07]\n",
            "  Predicted Digit: 7\n",
            "  True Digit: 7\n",
            "------------------------------\n",
            "Image 2:\n",
            "  Predicted Probabilities: [1.3540305e-14 1.6950423e-08 9.9999994e-01 2.5764444e-09 3.5746097e-17\n",
            " 2.1988316e-14 4.0238321e-15 7.5474314e-12 2.0379856e-11 8.6995361e-21]\n",
            "  Predicted Digit: 2\n",
            "  True Digit: 2\n",
            "------------------------------\n",
            "Image 3:\n",
            "  Predicted Probabilities: [9.7815156e-10 9.9998957e-01 1.3036531e-07 7.6972617e-10 1.0439519e-06\n",
            " 1.6560524e-09 4.5766022e-08 9.0546928e-06 1.1572472e-07 2.0201949e-09]\n",
            "  Predicted Digit: 1\n",
            "  True Digit: 1\n",
            "------------------------------\n",
            "Image 4:\n",
            "  Predicted Probabilities: [9.99941528e-01 1.06386656e-10 9.76983117e-08 2.86376665e-08\n",
            " 3.56509444e-09 1.41324037e-07 5.76900529e-05 3.27855609e-08\n",
            " 1.07206388e-09 4.04519795e-07]\n",
            "  Predicted Digit: 0\n",
            "  True Digit: 0\n",
            "------------------------------\n",
            "Image 5:\n",
            "  Predicted Probabilities: [6.91659729e-10 6.79629908e-10 2.67667666e-09 1.18295347e-11\n",
            " 9.99986231e-01 2.01708472e-09 3.43456841e-09 4.60782950e-08\n",
            " 4.29394964e-10 1.37054885e-05]\n",
            "  Predicted Digit: 4\n",
            "  True Digit: 4\n",
            "------------------------------\n",
            "Image 6:\n",
            "  Predicted Probabilities: [5.4511587e-13 9.9999970e-01 3.4846351e-11 1.3246271e-12 8.3354434e-09\n",
            " 2.8657236e-13 8.4786683e-12 2.8741186e-07 9.1741212e-11 7.2579464e-12]\n",
            "  Predicted Digit: 1\n",
            "  True Digit: 1\n",
            "------------------------------\n",
            "Image 7:\n",
            "  Predicted Probabilities: [1.40763151e-10 1.28643514e-08 3.35912631e-09 1.11652042e-10\n",
            " 9.99986947e-01 1.04786160e-07 3.12221782e-09 3.92157290e-07\n",
            " 4.86732233e-07 1.20856275e-05]\n",
            "  Predicted Digit: 4\n",
            "  True Digit: 4\n",
            "------------------------------\n",
            "Image 8:\n",
            "  Predicted Probabilities: [3.7188926e-08 7.1157032e-08 8.1885031e-07 8.9645796e-03 1.3398437e-04\n",
            " 7.9346784e-05 2.8329827e-10 6.3021296e-05 1.2328389e-05 9.9074584e-01]\n",
            "  Predicted Digit: 9\n",
            "  True Digit: 9\n",
            "------------------------------\n",
            "Image 9:\n",
            "  Predicted Probabilities: [9.4252539e-10 8.8688159e-09 6.7485928e-10 5.7572729e-09 3.6060698e-08\n",
            " 5.5725151e-01 4.4272569e-01 6.6018268e-13 1.4332735e-05 8.3809018e-06]\n",
            "  Predicted Digit: 5\n",
            "  True Digit: 5\n",
            "------------------------------\n",
            "Image 10:\n",
            "  Predicted Probabilities: [7.2306439e-10 5.9020229e-09 2.5628601e-09 3.0831058e-07 8.0090496e-05\n",
            " 1.9132807e-08 1.0999317e-11 1.3703411e-05 5.3167344e-07 9.9990529e-01]\n",
            "  Predicted Digit: 9\n",
            "  True Digit: 9\n",
            "------------------------------\n",
            "Image 11:\n",
            "  Predicted Probabilities: [9.9999994e-01 6.4039185e-16 2.9472771e-10 1.0759080e-13 1.3532471e-12\n",
            " 3.5271829e-12 4.2773002e-10 1.7593356e-10 1.8674415e-14 3.9669725e-09]\n",
            "  Predicted Digit: 0\n",
            "  True Digit: 0\n",
            "------------------------------\n",
            "Image 12:\n",
            "  Predicted Probabilities: [2.1537340e-05 2.1226823e-09 3.9635201e-10 2.2912464e-10 2.4891299e-06\n",
            " 2.2608413e-06 9.9997276e-01 9.8986757e-09 7.7413358e-07 1.0864390e-09]\n",
            "  Predicted Digit: 6\n",
            "  True Digit: 6\n",
            "------------------------------\n",
            "Image 13:\n",
            "  Predicted Probabilities: [1.6819984e-10 1.9857431e-09 1.6066544e-08 1.6412594e-06 4.0904546e-05\n",
            " 5.1506373e-08 2.3480040e-12 4.1985734e-07 1.5143662e-07 9.9995679e-01]\n",
            "  Predicted Digit: 9\n",
            "  True Digit: 9\n",
            "------------------------------\n",
            "Image 14:\n",
            "  Predicted Probabilities: [9.9999875e-01 6.1727262e-13 7.4130670e-09 2.3824437e-11 5.1974292e-10\n",
            " 1.1924114e-09 1.9557335e-08 2.1975403e-08 5.4156953e-11 1.1477457e-06]\n",
            "  Predicted Digit: 0\n",
            "  True Digit: 0\n",
            "------------------------------\n",
            "Image 15:\n",
            "  Predicted Probabilities: [1.4958597e-11 9.9999875e-01 4.8047215e-09 2.9392908e-10 2.3107322e-07\n",
            " 2.4666302e-09 5.0129292e-09 8.5815964e-07 7.4698733e-08 2.9614129e-09]\n",
            "  Predicted Digit: 1\n",
            "  True Digit: 1\n",
            "------------------------------\n",
            "Image 16:\n",
            "  Predicted Probabilities: [5.5362553e-10 2.8770117e-07 5.5124025e-09 1.2181385e-02 3.7239195e-10\n",
            " 9.8781127e-01 2.5286212e-07 2.0271960e-09 3.8538069e-06 2.9733485e-06]\n",
            "  Predicted Digit: 5\n",
            "  True Digit: 5\n",
            "------------------------------\n",
            "Image 17:\n",
            "  Predicted Probabilities: [3.4851816e-10 3.8006296e-11 2.6352691e-09 9.5131348e-08 6.6518784e-05\n",
            " 1.9298514e-09 3.0383121e-13 4.4854514e-07 1.5805075e-08 9.9993289e-01]\n",
            "  Predicted Digit: 9\n",
            "  True Digit: 9\n",
            "------------------------------\n",
            "Image 18:\n",
            "  Predicted Probabilities: [2.6807392e-13 4.2063533e-11 5.4314833e-09 2.0640817e-08 2.9896853e-13\n",
            " 1.8753033e-12 1.0651184e-18 1.0000000e+00 7.0074697e-13 5.2369038e-09]\n",
            "  Predicted Digit: 7\n",
            "  True Digit: 7\n",
            "------------------------------\n",
            "Image 19:\n",
            "  Predicted Probabilities: [2.6983873e-05 6.5003667e-04 1.5041012e-03 9.7012848e-01 1.9650675e-04\n",
            " 1.4258482e-02 4.1899995e-05 1.7395343e-04 8.6316941e-03 4.3877726e-03]\n",
            "  Predicted Digit: 3\n",
            "  True Digit: 3\n",
            "------------------------------\n",
            "Image 20:\n",
            "  Predicted Probabilities: [9.9977543e-15 9.8196486e-12 1.5747520e-11 1.4661618e-16 1.0000000e+00\n",
            " 7.6590007e-14 1.5344297e-13 8.9460522e-10 1.3829453e-14 1.5024829e-09]\n",
            "  Predicted Digit: 4\n",
            "  True Digit: 4\n",
            "------------------------------\n",
            "Image 21:\n",
            "  Predicted Probabilities: [5.7711757e-05 4.1103685e-05 4.3232535e-06 5.6115864e-04 6.1973988e-04\n",
            " 1.7882251e-04 2.4974361e-07 2.9568482e-02 1.8700142e-04 9.6878147e-01]\n",
            "  Predicted Digit: 9\n",
            "  True Digit: 9\n",
            "------------------------------\n"
          ]
        },
        {
          "output_type": "display_data",
          "data": {
            "text/plain": [
              "<Figure size 600x600 with 1 Axes>"
            ],
            "image/png": "[encoded data removed]"
          },
          "metadata": {}
        }
      ]
    },
    {
      "cell_type": "markdown",
      "source": [
        "### Plot Training History (Optional but Recommended)\n",
        "\n",
        "Visualizing the training history (loss and accuracy over epochs) is incredibly helpful for understanding how your model learned and for detecting issues like overfitting."
      ],
      "metadata": {
        "id": "28YdBc2Nflf_"
      }
    },
    {
      "cell_type": "code",
      "source": [
        "# Plot training & validation accuracy values\n",
        "plt.figure(figsize=(12, 5))\n",
        "\n",
        "plt.subplot(1, 2, 1) # 1 row, 2 columns, 1st plot\n",
        "plt.plot(history.history['accuracy'])\n",
        "plt.plot(history.history['val_accuracy'])\n",
        "plt.title('Model Accuracy')\n",
        "plt.ylabel('Accuracy')\n",
        "plt.xlabel('Epoch')\n",
        "plt.legend(['Train', 'Validation'], loc='upper left')\n",
        "\n",
        "# Plot training & validation loss values\n",
        "plt.subplot(1, 2, 2) # 1 row, 2 columns, 2nd plot\n",
        "plt.plot(history.history['loss'])\n",
        "plt.plot(history.history['val_loss'])\n",
        "plt.title('Model Loss')\n",
        "plt.ylabel('Loss')\n",
        "plt.xlabel('Epoch')\n",
        "plt.legend(['Train', 'Validation'], loc='upper left')\n",
        "\n",
        "plt.tight_layout() # Adjusts plot parameters for a tight layout\n",
        "plt.show()"
      ],
      "metadata": {
        "colab": {
          "base_uri": "https://localhost:8080/",
          "height": 507
        },
        "id": "vofYbflofsUQ",
        "outputId": "920a7e22-f874-45ba-c1fa-fae32c77da2e"
      },
      "execution_count": 13,
      "outputs": [
        {
          "output_type": "display_data",
          "data": {
            "text/plain": [
              "<Figure size 1200x500 with 2 Axes>"
            ],
            "image/png": "[encoded data removed]"
          },
          "metadata": {}
        }
      ]
    }
  ]
}